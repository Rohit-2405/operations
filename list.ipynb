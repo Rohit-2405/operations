{
 "cells": [
  {
   "cell_type": "code",
   "execution_count": null,
   "id": "540ce977-7069-42c1-8506-2cf4060fceae",
   "metadata": {},
   "outputs": [],
   "source": [
    "\n",
    "original_list = list(range(1, 11))\n",
    "\n",
    "# Step 2: Extract the first five elements\n",
    "first_five_elements = numbers[:5]\n",
    "\n",
    "# Step 3: Reverse these extracted elements\n",
    "reversed_five_elements = first_five[::-1]\n",
    "\n",
    "# Step 4: Print both the extracted list and the reversed list\n",
    "print(\"First five elements:\", first_five)\n",
    "print(\"Reversed elements:\", reversed_five)\n"
   ]
  }
 ],
 "metadata": {
  "kernelspec": {
   "display_name": "Python 3 (ipykernel)",
   "language": "python",
   "name": "python3"
  },
  "language_info": {
   "codemirror_mode": {
    "name": "ipython",
    "version": 3
   },
   "file_extension": ".py",
   "mimetype": "text/x-python",
   "name": "python",
   "nbconvert_exporter": "python",
   "pygments_lexer": "ipython3",
   "version": "3.13.5"
  }
 },
 "nbformat": 4,
 "nbformat_minor": 5
}
