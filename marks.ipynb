{
 "cells": [
  {
   "cell_type": "code",
   "execution_count": 1,
   "id": "958d224e-4237-4c49-89da-13c48e20b211",
   "metadata": {},
   "outputs": [
    {
     "name": "stdin",
     "output_type": "stream",
     "text": [
      "Enter the student's name:  Alice\n"
     ]
    },
    {
     "name": "stdout",
     "output_type": "stream",
     "text": [
      "Alice's marks: 85\n"
     ]
    }
   ],
   "source": [
    "\n",
    "student_marks = {\n",
    "    \"Alice\": 85,\n",
    "    \"Bob\": 92,\n",
    "    \"Charlie\": 78,\n",
    "    \"Diana\": 90,\n",
    "    \"Ethan\": 88\n",
    "}\n",
    "\n",
    "student_name = input(\"Enter the student's name: \")\n",
    "if student_name in student_marks:\n",
    "    print(f\"{student_name}'s marks: {student_marks[student_name]}\")\n",
    "else:\n",
    "    print(\"Student not found in the records.\")\n"
   ]
  },
  {
   "cell_type": "code",
   "execution_count": null,
   "id": "1697aef2-5866-4e41-9eeb-56d2a6f69340",
   "metadata": {},
   "outputs": [],
   "source": []
  }
 ],
 "metadata": {
  "kernelspec": {
   "display_name": "Python 3 (ipykernel)",
   "language": "python",
   "name": "python3"
  },
  "language_info": {
   "codemirror_mode": {
    "name": "ipython",
    "version": 3
   },
   "file_extension": ".py",
   "mimetype": "text/x-python",
   "name": "python",
   "nbconvert_exporter": "python",
   "pygments_lexer": "ipython3",
   "version": "3.13.5"
  }
 },
 "nbformat": 4,
 "nbformat_minor": 5
}
